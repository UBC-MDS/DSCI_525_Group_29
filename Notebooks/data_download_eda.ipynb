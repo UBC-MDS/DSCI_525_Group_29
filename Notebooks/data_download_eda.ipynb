{
 "cells": [
  {
   "cell_type": "markdown",
   "id": "f08cc9f8-3e49-4252-a29a-9935037e80b3",
   "metadata": {},
   "source": [
    "## Australian Rainfall Data Download and Exploratory Data Analysis\n",
    "\n",
    "Attribution: code adapted from DSCI 525 lecture notes."
   ]
  },
  {
   "cell_type": "markdown",
   "id": "06b927de-1d0b-4564-ba19-22c4a01f6b9d",
   "metadata": {},
   "source": [
    "#### 1. Imports "
   ]
  },
  {
   "cell_type": "code",
   "execution_count": 1,
   "id": "18c346d6-4a83-4732-be0a-28365853f9f3",
   "metadata": {},
   "outputs": [],
   "source": [
    "import re\n",
    "import os\n",
    "import glob\n",
    "import zipfile\n",
    "import requests\n",
    "from urllib.request import urlretrieve\n",
    "import json\n",
    "import pandas as pd\n",
    "import numpy as np"
   ]
  },
  {
   "cell_type": "markdown",
   "id": "80df37f9-f522-43c9-83c9-70c51310538c",
   "metadata": {},
   "source": [
    "#### 2. Downloading data using figshare API"
   ]
  },
  {
   "cell_type": "code",
   "execution_count": 2,
   "id": "37f54a97-2c6a-4215-b23f-885e9a0735cb",
   "metadata": {},
   "outputs": [],
   "source": [
    "# Necessary metadata\n",
    "article_id = 14096681  # unique identifier of the article on figshare\n",
    "url = f\"https://api.figshare.com/v2/articles/{article_id}\"\n",
    "headers = {\"Content-Type\": \"application/json\"}\n",
    "output_directory = \"figsharerainfall/\""
   ]
  },
  {
   "cell_type": "code",
   "execution_count": 3,
   "id": "bb1b462c-a13a-459f-a5ca-6e1f891687d7",
   "metadata": {},
   "outputs": [
    {
     "data": {
      "text/plain": [
       "[{'id': 26579150,\n",
       "  'name': 'daily_rainfall_2014.png',\n",
       "  'size': 58863,\n",
       "  'is_link_only': False,\n",
       "  'download_url': 'https://ndownloader.figshare.com/files/26579150',\n",
       "  'supplied_md5': 'fd32a2ffde300a31f8d63b1825d47e5e',\n",
       "  'computed_md5': 'fd32a2ffde300a31f8d63b1825d47e5e'},\n",
       " {'id': 26579171,\n",
       "  'name': 'environment.yml',\n",
       "  'size': 192,\n",
       "  'is_link_only': False,\n",
       "  'download_url': 'https://ndownloader.figshare.com/files/26579171',\n",
       "  'supplied_md5': '060b2020017eed93a1ee7dd8c65b2f34',\n",
       "  'computed_md5': '060b2020017eed93a1ee7dd8c65b2f34'},\n",
       " {'id': 26586554,\n",
       "  'name': 'README.md',\n",
       "  'size': 5422,\n",
       "  'is_link_only': False,\n",
       "  'download_url': 'https://ndownloader.figshare.com/files/26586554',\n",
       "  'supplied_md5': '61858c6cc0e6a6d6663a7e4c75bbd88c',\n",
       "  'computed_md5': '61858c6cc0e6a6d6663a7e4c75bbd88c'},\n",
       " {'id': 26766812,\n",
       "  'name': 'data.zip',\n",
       "  'size': 814041183,\n",
       "  'is_link_only': False,\n",
       "  'download_url': 'https://ndownloader.figshare.com/files/26766812',\n",
       "  'supplied_md5': 'b517383f76e77bd03755a63a8ff83ee9',\n",
       "  'computed_md5': 'b517383f76e77bd03755a63a8ff83ee9'},\n",
       " {'id': 26766815,\n",
       "  'name': 'get_data.py',\n",
       "  'size': 4113,\n",
       "  'is_link_only': False,\n",
       "  'download_url': 'https://ndownloader.figshare.com/files/26766815',\n",
       "  'supplied_md5': '7829028495fd9dec9680ea013474afa6',\n",
       "  'computed_md5': '7829028495fd9dec9680ea013474afa6'}]"
      ]
     },
     "execution_count": 3,
     "metadata": {},
     "output_type": "execute_result"
    }
   ],
   "source": [
    "response = requests.request(\"GET\", url, headers=headers)\n",
    "data = json.loads(response.text) \n",
    "files = data[\"files\"]             \n",
    "files"
   ]
  },
  {
   "cell_type": "code",
   "execution_count": 4,
   "id": "5d6fa2b9-a30a-4e1e-8dec-b7d6c2f8be23",
   "metadata": {},
   "outputs": [
    {
     "name": "stdout",
     "output_type": "stream",
     "text": [
      "CPU times: user 8.36 s, sys: 14.6 s, total: 23 s\n",
      "Wall time: 8min 18s\n"
     ]
    }
   ],
   "source": [
    "%%time\n",
    "files_to_dl = [\"data.zip\"]  \n",
    "for file in files:\n",
    "    if file[\"name\"] in files_to_dl:\n",
    "        os.makedirs(output_directory, exist_ok=True)\n",
    "        urlretrieve(file[\"download_url\"], output_directory + file[\"name\"])"
   ]
  },
  {
   "cell_type": "code",
   "execution_count": 5,
   "id": "8915e136-0df4-4305-95a8-93488ac76417",
   "metadata": {},
   "outputs": [
    {
     "name": "stdout",
     "output_type": "stream",
     "text": [
      "CPU times: user 18.2 s, sys: 2.96 s, total: 21.2 s\n",
      "Wall time: 23 s\n"
     ]
    }
   ],
   "source": [
    "%%time\n",
    "with zipfile.ZipFile(os.path.join(output_directory, \"data.zip\"), 'r') as f:\n",
    "    f.extractall(output_directory)"
   ]
  },
  {
   "cell_type": "markdown",
   "id": "393a96dd-f353-47c4-bcf1-3e7c55b09ec9",
   "metadata": {},
   "source": [
    "#### 3. Combining data files into one CSV file"
   ]
  },
  {
   "cell_type": "code",
   "execution_count": 8,
   "id": "c9276ccd-1226-466b-9ac8-c3e53360adb4",
   "metadata": {},
   "outputs": [
    {
     "name": "stdout",
     "output_type": "stream",
     "text": [
      "CPU times: user 5min 51s, sys: 25.2 s, total: 6min 16s\n",
      "Wall time: 6min 34s\n"
     ]
    }
   ],
   "source": [
    "%%time\n",
    "## here we are using a normal python way for merging the data \n",
    "import pandas as pd\n",
    "use_cols = [\"time\", \"lat_min\", \"lat_max\", \"lon_min\",\"lon_max\",\"rain (mm/day)\"]\n",
    "files = glob.glob('figsharerainfall/*.csv')\n",
    "df = pd.concat((pd.read_csv(file, index_col=0, usecols=use_cols)\n",
    "                .assign(model=re.findall(r\"[\\/|\\\\](.*)_daily_rainfall\", file)[0])\n",
    "                for file in files)\n",
    "              )\n",
    "df.to_csv(\"figsharerainfall/combined_data.csv\")"
   ]
  },
  {
   "cell_type": "code",
   "execution_count": 9,
   "id": "9e702af4-6c20-4f39-b716-8c9c536b7be7",
   "metadata": {},
   "outputs": [
    {
     "name": "stdout",
     "output_type": "stream",
     "text": [
      "5.6G\tfigsharerainfall/combined_data.csv\n"
     ]
    }
   ],
   "source": [
    "%%sh\n",
    "du -sh figsharerainfall/combined_data.csv"
   ]
  },
  {
   "cell_type": "code",
   "execution_count": 10,
   "id": "98fbcaf1-5b60-433f-ae83-51afad8942b7",
   "metadata": {},
   "outputs": [
    {
     "name": "stdout",
     "output_type": "stream",
     "text": [
      "CPU times: user 265 µs, sys: 732 µs, total: 997 µs\n",
      "Wall time: 1.26 ms\n"
     ]
    },
    {
     "data": {
      "text/html": [
       "<div>\n",
       "<style scoped>\n",
       "    .dataframe tbody tr th:only-of-type {\n",
       "        vertical-align: middle;\n",
       "    }\n",
       "\n",
       "    .dataframe tbody tr th {\n",
       "        vertical-align: top;\n",
       "    }\n",
       "\n",
       "    .dataframe thead th {\n",
       "        text-align: right;\n",
       "    }\n",
       "</style>\n",
       "<table border=\"1\" class=\"dataframe\">\n",
       "  <thead>\n",
       "    <tr style=\"text-align: right;\">\n",
       "      <th></th>\n",
       "      <th>lat_min</th>\n",
       "      <th>lat_max</th>\n",
       "      <th>lon_min</th>\n",
       "      <th>lon_max</th>\n",
       "      <th>rain (mm/day)</th>\n",
       "      <th>model</th>\n",
       "    </tr>\n",
       "    <tr>\n",
       "      <th>time</th>\n",
       "      <th></th>\n",
       "      <th></th>\n",
       "      <th></th>\n",
       "      <th></th>\n",
       "      <th></th>\n",
       "      <th></th>\n",
       "    </tr>\n",
       "  </thead>\n",
       "  <tbody>\n",
       "    <tr>\n",
       "      <th>1889-01-01 12:00:00</th>\n",
       "      <td>-35.439867</td>\n",
       "      <td>-33.574619</td>\n",
       "      <td>141.5625</td>\n",
       "      <td>143.4375</td>\n",
       "      <td>4.244226e-13</td>\n",
       "      <td>MPI-ESM-1-2-HAM</td>\n",
       "    </tr>\n",
       "    <tr>\n",
       "      <th>1889-01-02 12:00:00</th>\n",
       "      <td>-35.439867</td>\n",
       "      <td>-33.574619</td>\n",
       "      <td>141.5625</td>\n",
       "      <td>143.4375</td>\n",
       "      <td>4.217326e-13</td>\n",
       "      <td>MPI-ESM-1-2-HAM</td>\n",
       "    </tr>\n",
       "    <tr>\n",
       "      <th>1889-01-03 12:00:00</th>\n",
       "      <td>-35.439867</td>\n",
       "      <td>-33.574619</td>\n",
       "      <td>141.5625</td>\n",
       "      <td>143.4375</td>\n",
       "      <td>4.498125e-13</td>\n",
       "      <td>MPI-ESM-1-2-HAM</td>\n",
       "    </tr>\n",
       "    <tr>\n",
       "      <th>1889-01-04 12:00:00</th>\n",
       "      <td>-35.439867</td>\n",
       "      <td>-33.574619</td>\n",
       "      <td>141.5625</td>\n",
       "      <td>143.4375</td>\n",
       "      <td>4.251282e-13</td>\n",
       "      <td>MPI-ESM-1-2-HAM</td>\n",
       "    </tr>\n",
       "    <tr>\n",
       "      <th>1889-01-05 12:00:00</th>\n",
       "      <td>-35.439867</td>\n",
       "      <td>-33.574619</td>\n",
       "      <td>141.5625</td>\n",
       "      <td>143.4375</td>\n",
       "      <td>4.270161e-13</td>\n",
       "      <td>MPI-ESM-1-2-HAM</td>\n",
       "    </tr>\n",
       "  </tbody>\n",
       "</table>\n",
       "</div>"
      ],
      "text/plain": [
       "                       lat_min    lat_max   lon_min   lon_max  rain (mm/day)  \\\n",
       "time                                                                           \n",
       "1889-01-01 12:00:00 -35.439867 -33.574619  141.5625  143.4375   4.244226e-13   \n",
       "1889-01-02 12:00:00 -35.439867 -33.574619  141.5625  143.4375   4.217326e-13   \n",
       "1889-01-03 12:00:00 -35.439867 -33.574619  141.5625  143.4375   4.498125e-13   \n",
       "1889-01-04 12:00:00 -35.439867 -33.574619  141.5625  143.4375   4.251282e-13   \n",
       "1889-01-05 12:00:00 -35.439867 -33.574619  141.5625  143.4375   4.270161e-13   \n",
       "\n",
       "                               model  \n",
       "time                                  \n",
       "1889-01-01 12:00:00  MPI-ESM-1-2-HAM  \n",
       "1889-01-02 12:00:00  MPI-ESM-1-2-HAM  \n",
       "1889-01-03 12:00:00  MPI-ESM-1-2-HAM  \n",
       "1889-01-04 12:00:00  MPI-ESM-1-2-HAM  \n",
       "1889-01-05 12:00:00  MPI-ESM-1-2-HAM  "
      ]
     },
     "execution_count": 10,
     "metadata": {},
     "output_type": "execute_result"
    }
   ],
   "source": [
    "%%time\n",
    "df.head()"
   ]
  },
  {
   "cell_type": "markdown",
   "id": "c6c7c1d0-500b-441c-b27a-7e98184987bb",
   "metadata": {},
   "source": [
    "##### 3.1 Comparing run times on different machines "
   ]
  },
  {
   "cell_type": "markdown",
   "id": "c76c7377-6f79-4356-9c56-7db0c5cc7e4e",
   "metadata": {},
   "source": [
    "- We used pandas to concatenate the files in data.zip folder to a combined file which is 5.6GB in size.\n",
    "- ** ADD A GENERAL OBSERVATION OF RUN TIMES AMONG THE GROUP MEMBERS**\n",
    "- ** If anyone runs into issue, specify here...**"
   ]
  },
  {
   "cell_type": "markdown",
   "id": "7c34a92a-3059-416d-b748-5f2c7f3e71fc",
   "metadata": {},
   "source": [
    "| Team Member | Operating System | RAM | Processor | Is SSD | Time taken to combine files |\n",
    "|:-----------:|:----------------:|:---:|:---------:|:------:|:----------:|\n",
    "| Arlin   |      MacOS Monterey|  16GB   | 2 GHz Quad-Core Intel Core i5          |    No    |   CPU Time: 5 min 52s; Total: 6 min 9s; Wall time: 6 min 20s\n",
    "| Artan   |      Windows 10    |  8GB   |   1.80 GHz Intel Core i5                |    Yes    |      CPU times: total: 9min 4s; Wall time: 9min 28s      |\n",
    "| Shi Yan    |                  |     |           |        |            |\n"
   ]
  },
  {
   "cell_type": "markdown",
   "id": "37cee037-6b9f-4548-b872-e1bdea9ce16f",
   "metadata": {},
   "source": [
    "#### 4. Load the combined CSV to memory and perform a simple EDA"
   ]
  },
  {
   "cell_type": "markdown",
   "id": "f1ae92d2-6ff8-4bcc-8076-12dac940efc4",
   "metadata": {},
   "source": [
    "EDA question: What is the average predicted percipitation for the `MPI-ESM-1-2-HAM` model?"
   ]
  },
  {
   "cell_type": "markdown",
   "id": "fb894953-dbf2-4aa8-a27c-5fa954f37616",
   "metadata": {},
   "source": [
    "##### 4.1 Regular Loading"
   ]
  },
  {
   "cell_type": "code",
   "execution_count": 2,
   "id": "c3e52d90-ce4c-481c-aae3-4d652fc76501",
   "metadata": {},
   "outputs": [
    {
     "name": "stdout",
     "output_type": "stream",
     "text": [
      "CPU times: total: 1min 46s\n",
      "Wall time: 2min 16s\n"
     ]
    }
   ],
   "source": [
    "%%time\n",
    "# Load time\n",
    "model_name = \"MPI-ESM-1-2-HAM\"\n",
    "df = pd.read_csv(\"figsharerainfall/combined_data.csv\")"
   ]
  },
  {
   "cell_type": "code",
   "execution_count": 7,
   "id": "0dde94c8-bb4b-46f9-b8f5-ce069cec0bb3",
   "metadata": {},
   "outputs": [
    {
     "name": "stdout",
     "output_type": "stream",
     "text": [
      "CPU times: total: 7.91 s\n",
      "Wall time: 8.24 s\n"
     ]
    }
   ],
   "source": [
    "%%time\n",
    "# Simple EDA\n",
    "counts = df[\"model\"].value_counts()"
   ]
  },
  {
   "cell_type": "markdown",
   "id": "f6b415d7-07fe-41b5-87ba-c920cf16677c",
   "metadata": {},
   "source": [
    "##### 4.2 Changing Data Type"
   ]
  },
  {
   "cell_type": "code",
   "execution_count": 8,
   "id": "26138815-2c6c-442c-b502-1cc1b85f14c0",
   "metadata": {},
   "outputs": [
    {
     "name": "stdout",
     "output_type": "stream",
     "text": [
      "CPU times: total: 2min 48s\n",
      "Wall time: 3min 5s\n"
     ]
    }
   ],
   "source": [
    "%%time\n",
    "# Load time\n",
    "df = pd.read_csv(\"figsharerainfall/combined_data.csv\", dtype={\"lat_min\": np.float16,\n",
    "                                                              \"lat_max\": np.float16,\n",
    "                                                              \"lon_min\": np.float16,  \n",
    "                                                              \"lon_max\": np.float16,\n",
    "                                                              \"rain (mm/day)\": np.float16})"
   ]
  },
  {
   "cell_type": "code",
   "execution_count": 9,
   "id": "5aebdf14-98fe-4247-ab94-d376d1c45582",
   "metadata": {},
   "outputs": [
    {
     "name": "stdout",
     "output_type": "stream",
     "text": [
      "CPU times: total: 8.41 s\n",
      "Wall time: 8.61 s\n"
     ]
    }
   ],
   "source": [
    "%%time\n",
    "# Simple EDA\n",
    "counts = df[\"model\"].value_counts()"
   ]
  },
  {
   "cell_type": "markdown",
   "id": "90380d56-a1a7-4fff-a563-0439e93cdc27",
   "metadata": {},
   "source": [
    "##### 4.3 Load Selected Columns Only"
   ]
  },
  {
   "cell_type": "code",
   "execution_count": 10,
   "id": "caf6650b-ae11-469d-aa61-a0513115a24d",
   "metadata": {},
   "outputs": [
    {
     "name": "stdout",
     "output_type": "stream",
     "text": [
      "CPU times: total: 1min 34s\n",
      "Wall time: 1min 36s\n"
     ]
    }
   ],
   "source": [
    "%%time\n",
    "# Load time\n",
    "df = pd.read_csv(\"figsharerainfall/combined_data.csv\", usecols=[\"model\"])"
   ]
  },
  {
   "cell_type": "code",
   "execution_count": 11,
   "id": "58221056-10cf-4b8d-a29b-ff2f7b541965",
   "metadata": {},
   "outputs": [
    {
     "name": "stdout",
     "output_type": "stream",
     "text": [
      "CPU times: total: 7.5 s\n",
      "Wall time: 8.18 s\n"
     ]
    }
   ],
   "source": [
    "%%time\n",
    "# Simple EDA\n",
    "counts = df[\"model\"].value_counts()"
   ]
  },
  {
   "cell_type": "markdown",
   "id": "4dc81184-7df7-4364-81bc-f97561c4142a",
   "metadata": {},
   "source": [
    "##### 4.4 Loading in Chunks"
   ]
  },
  {
   "cell_type": "code",
   "execution_count": 12,
   "id": "0265b361-1c6f-4084-a90a-1d6deff51b97",
   "metadata": {},
   "outputs": [
    {
     "name": "stdout",
     "output_type": "stream",
     "text": [
      "CPU times: total: 2min 40s\n",
      "Wall time: 2min 50s\n"
     ]
    },
    {
     "data": {
      "text/plain": [
       "Series([], dtype: float16)"
      ]
     },
     "execution_count": 12,
     "metadata": {},
     "output_type": "execute_result"
    }
   ],
   "source": [
    "%%time\n",
    "# Load and EDA time\n",
    "chunk_counts = pd.Series(dtype=np.float16)\n",
    "for chunk in pd.read_csv(\"figsharerainfall/combined_data.csv\", chunksize=10_000_000):\n",
    "    chunk_counts.add(chunk[\"model\"].value_counts(), \n",
    "                     fill_value=None)  # To exclude NaN\n",
    "chunk_counts.head()"
   ]
  },
  {
   "cell_type": "markdown",
   "id": "cfc60e34-b20d-4109-a905-37ff2e52be76",
   "metadata": {},
   "source": [
    "##### 4.5 Loading with Dask"
   ]
  },
  {
   "cell_type": "code",
   "execution_count": 13,
   "id": "d66bfde8-2ed6-438b-8596-925a3badc427",
   "metadata": {},
   "outputs": [
    {
     "name": "stdout",
     "output_type": "stream",
     "text": [
      "CPU times: total: 1.61 s\n",
      "Wall time: 4.46 s\n"
     ]
    }
   ],
   "source": [
    "%%time\n",
    "# Load time\n",
    "import dask.dataframe as dd\n",
    "df_dask = dd.read_csv(\"figsharerainfall/combined_data.csv\")"
   ]
  },
  {
   "cell_type": "code",
   "execution_count": 14,
   "id": "dd1710cd-8e1e-4a1f-a8d0-bdb8f4c734b3",
   "metadata": {},
   "outputs": [
    {
     "name": "stdout",
     "output_type": "stream",
     "text": [
      "CPU times: total: 2min 38s\n",
      "Wall time: 55 s\n"
     ]
    },
    {
     "data": {
      "text/plain": [
       "MPI-ESM1-2-HR       5154240\n",
       "TaiESM1             3541230\n",
       "NorESM2-MM          3541230\n",
       "CMCC-CM2-HR4        3541230\n",
       "CMCC-CM2-SR5        3541230\n",
       "CMCC-ESM2           3541230\n",
       "SAM0-UNICON         3541153\n",
       "FGOALS-f3-L         3219300\n",
       "GFDL-CM4            3219300\n",
       "GFDL-ESM4           3219300\n",
       "EC-Earth3-Veg-LR    3037320\n",
       "MRI-ESM2-0          3037320\n",
       "BCC-CSM2-MR         3035340\n",
       "MIROC6              2070900\n",
       "ACCESS-CM2          1932840\n",
       "ACCESS-ESM1-5       1610700\n",
       "INM-CM5-0           1609650\n",
       "INM-CM4-8           1609650\n",
       "KIOST-ESM           1287720\n",
       "FGOALS-g3           1287720\n",
       "MPI-ESM1-2-LR        966420\n",
       "NESM3                966420\n",
       "AWI-ESM-1-1-LR       966420\n",
       "MPI-ESM-1-2-HAM      966420\n",
       "NorESM2-LM           919800\n",
       "BCC-ESM1             551880\n",
       "CanESM5              551880\n",
       "Name: model, dtype: int64"
      ]
     },
     "execution_count": 14,
     "metadata": {},
     "output_type": "execute_result"
    }
   ],
   "source": [
    "%%time\n",
    "#computing values of lat_min variable \n",
    "df_dask[\"model\"].value_counts().compute()"
   ]
  },
  {
   "cell_type": "markdown",
   "id": "9504b8ee-605e-4bc9-80d8-21e08b88f0a0",
   "metadata": {},
   "source": [
    "##### 4.6 Comparing Wall Time of Different Machines"
   ]
  },
  {
   "cell_type": "markdown",
   "id": "e6e0fe86-e20c-449f-b46d-d15115785f4a",
   "metadata": {},
   "source": [
    "| Team Member | Task  |  Regular Loading |      Changed Data Type |      Selected Columns |  Chunks            |   Dask        |\n",
    "|:-----------:|:------|:----------------:|:----------------------:|:---------------------:|:------------------:|:-------------:|\n",
    "| Arlin       | Load  |                  |                        |                       |                    |               | \n",
    "|             | EDA   |                  |                        |                       |                    |               |\n",
    "| Artan       | Load  |    2min 11s      |        1min 50s        |       47 s            |load + EDA: 2min 50s|    4.46 s     |\n",
    "|             | EDA   |       8.81s      |        8.61s           |       8.18s           |included above      |    55 s       |\n",
    "| Shi Yan     | Load  |                  |                        |                       |                    |               |\n",
    "|             | EDA   |                  |                        |                       |                    |               |"
   ]
  },
  {
   "cell_type": "markdown",
   "id": "f7f2a7c6-1ad8-4a99-ad9a-d0a7c5068062",
   "metadata": {},
   "source": [
    ">Observations: Artan's laptop did not have problem loading the csv files but was getting errors like the below when doing an EDA including calculating mean values per model:\n",
    ">```Python\n",
    ">MemoryError: Unable to allocate 477. MiB for an array with shape (1, 62467843) and data type object\n",
    ">```"
   ]
  },
  {
   "cell_type": "markdown",
   "id": "3efc41f4-29c3-4f49-b447-8c7daa508056",
   "metadata": {},
   "source": [
    "<br>\n",
    "\n",
    "#### 5. Perform a simple EDA in R"
   ]
  },
  {
   "cell_type": "code",
   "execution_count": null,
   "id": "6a4a523c-c483-490d-a8fa-44c737d82734",
   "metadata": {},
   "outputs": [],
   "source": []
  }
 ],
 "metadata": {
  "kernelspec": {
   "display_name": "Python [conda env:525_2022]",
   "language": "python",
   "name": "conda-env-525_2022-py"
  },
  "language_info": {
   "codemirror_mode": {
    "name": "ipython",
    "version": 3
   },
   "file_extension": ".py",
   "mimetype": "text/x-python",
   "name": "python",
   "nbconvert_exporter": "python",
   "pygments_lexer": "ipython3",
   "version": "3.8.6"
  }
 },
 "nbformat": 4,
 "nbformat_minor": 5
}
