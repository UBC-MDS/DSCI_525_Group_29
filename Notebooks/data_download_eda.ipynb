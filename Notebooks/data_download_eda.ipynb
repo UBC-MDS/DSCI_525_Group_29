{
 "cells": [
  {
   "cell_type": "markdown",
   "id": "f08cc9f8-3e49-4252-a29a-9935037e80b3",
   "metadata": {},
   "source": [
    "## Australian Rainfall Data Download and Exploratory Data Analysis\n",
    "\n",
    "Attribution: code adapted from DSCI 525 lecture notes."
   ]
  },
  {
   "cell_type": "markdown",
   "id": "06b927de-1d0b-4564-ba19-22c4a01f6b9d",
   "metadata": {},
   "source": [
    "#### 1. Imports "
   ]
  },
  {
   "cell_type": "code",
   "execution_count": 1,
   "id": "18c346d6-4a83-4732-be0a-28365853f9f3",
   "metadata": {},
   "outputs": [],
   "source": [
    "import re\n",
    "import os\n",
    "import glob\n",
    "import zipfile\n",
    "import requests\n",
    "from urllib.request import urlretrieve\n",
    "import json\n",
    "import pandas as pd\n",
    "import numpy as np\n",
    "from memory_profiler import memory_usage\n",
    "import pyarrow.parquet as pq\n",
    "import pyarrow as pa\n",
    "import pyarrow.feather as feather\n",
    "import rpy2\n",
    "import rpy2.rinterface\n",
    "import warnings\n",
    "warnings.filterwarnings('ignore')"
   ]
  },
  {
   "cell_type": "markdown",
   "id": "80df37f9-f522-43c9-83c9-70c51310538c",
   "metadata": {},
   "source": [
    "#### 2. Downloading data using figshare API"
   ]
  },
  {
   "cell_type": "code",
   "execution_count": 2,
   "id": "37f54a97-2c6a-4215-b23f-885e9a0735cb",
   "metadata": {},
   "outputs": [],
   "source": [
    "# Necessary metadata\n",
    "article_id = 14096681  # unique identifier of the article on figshare\n",
    "url = f\"https://api.figshare.com/v2/articles/{article_id}\"\n",
    "headers = {\"Content-Type\": \"application/json\"}\n",
    "output_directory = \"figsharerainfall/\""
   ]
  },
  {
   "cell_type": "code",
   "execution_count": 3,
   "id": "bb1b462c-a13a-459f-a5ca-6e1f891687d7",
   "metadata": {},
   "outputs": [
    {
     "data": {
      "text/plain": [
       "[{'id': 26579150,\n",
       "  'name': 'daily_rainfall_2014.png',\n",
       "  'size': 58863,\n",
       "  'is_link_only': False,\n",
       "  'download_url': 'https://ndownloader.figshare.com/files/26579150',\n",
       "  'supplied_md5': 'fd32a2ffde300a31f8d63b1825d47e5e',\n",
       "  'computed_md5': 'fd32a2ffde300a31f8d63b1825d47e5e'},\n",
       " {'id': 26579171,\n",
       "  'name': 'environment.yml',\n",
       "  'size': 192,\n",
       "  'is_link_only': False,\n",
       "  'download_url': 'https://ndownloader.figshare.com/files/26579171',\n",
       "  'supplied_md5': '060b2020017eed93a1ee7dd8c65b2f34',\n",
       "  'computed_md5': '060b2020017eed93a1ee7dd8c65b2f34'},\n",
       " {'id': 26586554,\n",
       "  'name': 'README.md',\n",
       "  'size': 5422,\n",
       "  'is_link_only': False,\n",
       "  'download_url': 'https://ndownloader.figshare.com/files/26586554',\n",
       "  'supplied_md5': '61858c6cc0e6a6d6663a7e4c75bbd88c',\n",
       "  'computed_md5': '61858c6cc0e6a6d6663a7e4c75bbd88c'},\n",
       " {'id': 26766812,\n",
       "  'name': 'data.zip',\n",
       "  'size': 814041183,\n",
       "  'is_link_only': False,\n",
       "  'download_url': 'https://ndownloader.figshare.com/files/26766812',\n",
       "  'supplied_md5': 'b517383f76e77bd03755a63a8ff83ee9',\n",
       "  'computed_md5': 'b517383f76e77bd03755a63a8ff83ee9'},\n",
       " {'id': 26766815,\n",
       "  'name': 'get_data.py',\n",
       "  'size': 4113,\n",
       "  'is_link_only': False,\n",
       "  'download_url': 'https://ndownloader.figshare.com/files/26766815',\n",
       "  'supplied_md5': '7829028495fd9dec9680ea013474afa6',\n",
       "  'computed_md5': '7829028495fd9dec9680ea013474afa6'}]"
      ]
     },
     "execution_count": 3,
     "metadata": {},
     "output_type": "execute_result"
    }
   ],
   "source": [
    "response = requests.request(\"GET\", url, headers=headers)\n",
    "data = json.loads(response.text) \n",
    "files = data[\"files\"]             \n",
    "files"
   ]
  },
  {
   "cell_type": "code",
   "execution_count": 5,
   "id": "5d6fa2b9-a30a-4e1e-8dec-b7d6c2f8be23",
   "metadata": {},
   "outputs": [
    {
     "name": "stdout",
     "output_type": "stream",
     "text": [
      "CPU times: user 6.99 s, sys: 8.79 s, total: 15.8 s\n",
      "Wall time: 2min 50s\n"
     ]
    }
   ],
   "source": [
    "%%time\n",
    "files_to_dl = [\"data.zip\"]  \n",
    "for file in files:\n",
    "    if file[\"name\"] in files_to_dl:\n",
    "        os.makedirs(output_directory, exist_ok=True)\n",
    "        urlretrieve(file[\"download_url\"], output_directory + file[\"name\"])"
   ]
  },
  {
   "cell_type": "code",
   "execution_count": 6,
   "id": "8915e136-0df4-4305-95a8-93488ac76417",
   "metadata": {},
   "outputs": [
    {
     "name": "stdout",
     "output_type": "stream",
     "text": [
      "CPU times: user 17.5 s, sys: 2.52 s, total: 20.1 s\n",
      "Wall time: 21.3 s\n"
     ]
    }
   ],
   "source": [
    "%%time\n",
    "with zipfile.ZipFile(os.path.join(output_directory, \"data.zip\"), 'r') as f:\n",
    "    f.extractall(output_directory)"
   ]
  },
  {
   "cell_type": "code",
   "execution_count": 7,
   "id": "c79d4916-9daa-4146-b284-101b93ed9909",
   "metadata": {},
   "outputs": [],
   "source": [
    "# remove observed_daily_rainfall.csv file from directory\n",
    "file_path = 'figsharerainfall/observed_daily_rainfall_SYD.csv'\n",
    "os.remove(file_path)"
   ]
  },
  {
   "cell_type": "markdown",
   "id": "393a96dd-f353-47c4-bcf1-3e7c55b09ec9",
   "metadata": {},
   "source": [
    "#### 3. Combining data files into one CSV file"
   ]
  },
  {
   "cell_type": "code",
   "execution_count": 8,
   "id": "c9276ccd-1226-466b-9ac8-c3e53360adb4",
   "metadata": {},
   "outputs": [
    {
     "name": "stdout",
     "output_type": "stream",
     "text": [
      "CPU times: user 5min 58s, sys: 24.8 s, total: 6min 23s\n",
      "Wall time: 6min 40s\n"
     ]
    }
   ],
   "source": [
    "%%time\n",
    "## here we are using a normal python way for merging the data \n",
    "import pandas as pd\n",
    "use_cols = [\"time\", \"lat_min\", \"lat_max\", \"lon_min\",\"lon_max\",\"rain (mm/day)\"]\n",
    "files = glob.glob('figsharerainfall/*.csv')\n",
    "df = pd.concat((pd.read_csv(file, index_col=0, usecols=use_cols)\n",
    "                .assign(model=re.findall(r\"[\\/|\\\\](.*)_daily_rainfall\", file)[0])\n",
    "                for file in files)\n",
    "              )\n",
    "df.to_csv(\"figsharerainfall/combined_data.csv\")"
   ]
  },
  {
   "cell_type": "code",
   "execution_count": 9,
   "id": "9e702af4-6c20-4f39-b716-8c9c536b7be7",
   "metadata": {},
   "outputs": [
    {
     "name": "stdout",
     "output_type": "stream",
     "text": [
      "5.6G\tfigsharerainfall/combined_data.csv\n"
     ]
    }
   ],
   "source": [
    "%%sh\n",
    "du -sh figsharerainfall/combined_data.csv"
   ]
  },
  {
   "cell_type": "code",
   "execution_count": 10,
   "id": "98fbcaf1-5b60-433f-ae83-51afad8942b7",
   "metadata": {},
   "outputs": [
    {
     "name": "stdout",
     "output_type": "stream",
     "text": [
      "CPU times: user 185 µs, sys: 291 µs, total: 476 µs\n",
      "Wall time: 484 µs\n"
     ]
    },
    {
     "data": {
      "text/html": [
       "<div>\n",
       "<style scoped>\n",
       "    .dataframe tbody tr th:only-of-type {\n",
       "        vertical-align: middle;\n",
       "    }\n",
       "\n",
       "    .dataframe tbody tr th {\n",
       "        vertical-align: top;\n",
       "    }\n",
       "\n",
       "    .dataframe thead th {\n",
       "        text-align: right;\n",
       "    }\n",
       "</style>\n",
       "<table border=\"1\" class=\"dataframe\">\n",
       "  <thead>\n",
       "    <tr style=\"text-align: right;\">\n",
       "      <th></th>\n",
       "      <th>lat_min</th>\n",
       "      <th>lat_max</th>\n",
       "      <th>lon_min</th>\n",
       "      <th>lon_max</th>\n",
       "      <th>rain (mm/day)</th>\n",
       "      <th>model</th>\n",
       "    </tr>\n",
       "    <tr>\n",
       "      <th>time</th>\n",
       "      <th></th>\n",
       "      <th></th>\n",
       "      <th></th>\n",
       "      <th></th>\n",
       "      <th></th>\n",
       "      <th></th>\n",
       "    </tr>\n",
       "  </thead>\n",
       "  <tbody>\n",
       "    <tr>\n",
       "      <th>1889-01-01 12:00:00</th>\n",
       "      <td>-35.439867</td>\n",
       "      <td>-33.574619</td>\n",
       "      <td>141.5625</td>\n",
       "      <td>143.4375</td>\n",
       "      <td>4.244226e-13</td>\n",
       "      <td>MPI-ESM-1-2-HAM</td>\n",
       "    </tr>\n",
       "    <tr>\n",
       "      <th>1889-01-02 12:00:00</th>\n",
       "      <td>-35.439867</td>\n",
       "      <td>-33.574619</td>\n",
       "      <td>141.5625</td>\n",
       "      <td>143.4375</td>\n",
       "      <td>4.217326e-13</td>\n",
       "      <td>MPI-ESM-1-2-HAM</td>\n",
       "    </tr>\n",
       "    <tr>\n",
       "      <th>1889-01-03 12:00:00</th>\n",
       "      <td>-35.439867</td>\n",
       "      <td>-33.574619</td>\n",
       "      <td>141.5625</td>\n",
       "      <td>143.4375</td>\n",
       "      <td>4.498125e-13</td>\n",
       "      <td>MPI-ESM-1-2-HAM</td>\n",
       "    </tr>\n",
       "    <tr>\n",
       "      <th>1889-01-04 12:00:00</th>\n",
       "      <td>-35.439867</td>\n",
       "      <td>-33.574619</td>\n",
       "      <td>141.5625</td>\n",
       "      <td>143.4375</td>\n",
       "      <td>4.251282e-13</td>\n",
       "      <td>MPI-ESM-1-2-HAM</td>\n",
       "    </tr>\n",
       "    <tr>\n",
       "      <th>1889-01-05 12:00:00</th>\n",
       "      <td>-35.439867</td>\n",
       "      <td>-33.574619</td>\n",
       "      <td>141.5625</td>\n",
       "      <td>143.4375</td>\n",
       "      <td>4.270161e-13</td>\n",
       "      <td>MPI-ESM-1-2-HAM</td>\n",
       "    </tr>\n",
       "  </tbody>\n",
       "</table>\n",
       "</div>"
      ],
      "text/plain": [
       "                       lat_min    lat_max   lon_min   lon_max  rain (mm/day)  \\\n",
       "time                                                                           \n",
       "1889-01-01 12:00:00 -35.439867 -33.574619  141.5625  143.4375   4.244226e-13   \n",
       "1889-01-02 12:00:00 -35.439867 -33.574619  141.5625  143.4375   4.217326e-13   \n",
       "1889-01-03 12:00:00 -35.439867 -33.574619  141.5625  143.4375   4.498125e-13   \n",
       "1889-01-04 12:00:00 -35.439867 -33.574619  141.5625  143.4375   4.251282e-13   \n",
       "1889-01-05 12:00:00 -35.439867 -33.574619  141.5625  143.4375   4.270161e-13   \n",
       "\n",
       "                               model  \n",
       "time                                  \n",
       "1889-01-01 12:00:00  MPI-ESM-1-2-HAM  \n",
       "1889-01-02 12:00:00  MPI-ESM-1-2-HAM  \n",
       "1889-01-03 12:00:00  MPI-ESM-1-2-HAM  \n",
       "1889-01-04 12:00:00  MPI-ESM-1-2-HAM  \n",
       "1889-01-05 12:00:00  MPI-ESM-1-2-HAM  "
      ]
     },
     "execution_count": 10,
     "metadata": {},
     "output_type": "execute_result"
    }
   ],
   "source": [
    "%%time\n",
    "df.head()"
   ]
  },
  {
   "cell_type": "markdown",
   "id": "c6c7c1d0-500b-441c-b27a-7e98184987bb",
   "metadata": {},
   "source": [
    "##### 3.1 Comparing run times on different machines "
   ]
  },
  {
   "cell_type": "markdown",
   "id": "c76c7377-6f79-4356-9c56-7db0c5cc7e4e",
   "metadata": {},
   "source": [
    "- We used pandas to concatenate the files in data.zip folder to a combined file which is `5.6GB` in size.\n",
    "- The run time on different machines ranged from `6 min to 10 min` across different machines (one MacOS vs two Windows 10 operating system). The MacOS with 16GB RAM took the least time to combine the datafile into run large csv file.\n",
    "- Runtime observations on group members' laptops are shown below:"
   ]
  },
  {
   "cell_type": "markdown",
   "id": "7c34a92a-3059-416d-b748-5f2c7f3e71fc",
   "metadata": {},
   "source": [
    "| Team Member | Operating System | RAM | Processor | Is SSD | Time taken to combine files |\n",
    "|:-----------:|:----------------:|:---:|:---------:|:------:|:----------:|\n",
    "| Arlin   |      MacOS Monterey|  16GB   | 2 GHz Quad-Core Intel Core i5          |    No    |  Total: 6 min 9s; Wall time: 6 min 20s\n",
    "| Artan   |      Windows 10    |  8GB   |   1.80 GHz Intel Core i5                |    Yes    |       Total: 9min 4s; Wall time: 9min 28s      |\n",
    "| Shi Yan |      Windows 10    |  8GB   |   1.50 GHz Intel Core i5                |    Yes    |       Total: 10min 23s; Wall time: 10min 11s      |\n"
   ]
  },
  {
   "cell_type": "markdown",
   "id": "37cee037-6b9f-4548-b872-e1bdea9ce16f",
   "metadata": {},
   "source": [
    "#### 4. Load the combined CSV to memory and perform a simple EDA"
   ]
  },
  {
   "cell_type": "markdown",
   "id": "f1ae92d2-6ff8-4bcc-8076-12dac940efc4",
   "metadata": {},
   "source": [
    "EDA question: Perform value counts on a float variable `lat_min`."
   ]
  },
  {
   "cell_type": "markdown",
   "id": "fb894953-dbf2-4aa8-a27c-5fa954f37616",
   "metadata": {},
   "source": [
    "##### 4.1 Regular Loading"
   ]
  },
  {
   "cell_type": "code",
   "execution_count": 11,
   "id": "c3e52d90-ce4c-481c-aae3-4d652fc76501",
   "metadata": {},
   "outputs": [
    {
     "name": "stdout",
     "output_type": "stream",
     "text": [
      "CPU times: user 54.3 s, sys: 22 s, total: 1min 16s\n",
      "Wall time: 1min 31s\n"
     ]
    }
   ],
   "source": [
    "%%time\n",
    "# Load time\n",
    "df = pd.read_csv(\"figsharerainfall/combined_data.csv\")"
   ]
  },
  {
   "cell_type": "code",
   "execution_count": 12,
   "id": "0dde94c8-bb4b-46f9-b8f5-ce069cec0bb3",
   "metadata": {},
   "outputs": [
    {
     "name": "stdout",
     "output_type": "stream",
     "text": [
      "CPU times: user 694 ms, sys: 488 ms, total: 1.18 s\n",
      "Wall time: 1.5 s\n"
     ]
    }
   ],
   "source": [
    "%%time\n",
    "# Simple EDA\n",
    "counts = df[\"lat_min\"].value_counts()"
   ]
  },
  {
   "cell_type": "markdown",
   "id": "f6b415d7-07fe-41b5-87ba-c920cf16677c",
   "metadata": {},
   "source": [
    "##### 4.2 Changing Data Type"
   ]
  },
  {
   "cell_type": "code",
   "execution_count": 13,
   "id": "26138815-2c6c-442c-b502-1cc1b85f14c0",
   "metadata": {},
   "outputs": [
    {
     "name": "stdout",
     "output_type": "stream",
     "text": [
      "CPU times: user 55.2 s, sys: 11 s, total: 1min 6s\n",
      "Wall time: 1min 12s\n"
     ]
    }
   ],
   "source": [
    "%%time\n",
    "# Load time\n",
    "df_16 = pd.read_csv(\"figsharerainfall/combined_data.csv\", dtype={\"lat_min\": np.float16,\n",
    "                                                              \"lat_max\": np.float16,\n",
    "                                                              \"lon_min\": np.float16,  \n",
    "                                                              \"lon_max\": np.float16,\n",
    "                                                              \"rain (mm/day)\": np.float16})"
   ]
  },
  {
   "cell_type": "code",
   "execution_count": 14,
   "id": "ece5e4ff-48ea-4a24-a9cc-d6997c01c4ab",
   "metadata": {},
   "outputs": [
    {
     "name": "stdout",
     "output_type": "stream",
     "text": [
      "DataFrame with numeric columns as float16: 1624.16 GB\n",
      "DataFrame with numeric columns as float64: 3498.20 GB\n"
     ]
    }
   ],
   "source": [
    "# Comparing memory space between datatype64GB and 16GB\n",
    "print(f\"DataFrame with numeric columns as float16: {df_16.memory_usage().sum() / 1e6:.2f} GB\")\n",
    "print(f\"DataFrame with numeric columns as float64: {df.memory_usage().sum() / 1e6:.2f} GB\")"
   ]
  },
  {
   "cell_type": "code",
   "execution_count": 15,
   "id": "5aebdf14-98fe-4247-ab94-d376d1c45582",
   "metadata": {},
   "outputs": [
    {
     "name": "stdout",
     "output_type": "stream",
     "text": [
      "CPU times: user 782 ms, sys: 208 ms, total: 990 ms\n",
      "Wall time: 1.01 s\n"
     ]
    }
   ],
   "source": [
    "%%time\n",
    "# Simple EDA\n",
    "counts = df_16[\"lat_min\"].value_counts()"
   ]
  },
  {
   "cell_type": "markdown",
   "id": "90380d56-a1a7-4fff-a563-0439e93cdc27",
   "metadata": {},
   "source": [
    "##### 4.3 Load Selected Columns Only"
   ]
  },
  {
   "cell_type": "code",
   "execution_count": 16,
   "id": "caf6650b-ae11-469d-aa61-a0513115a24d",
   "metadata": {},
   "outputs": [
    {
     "name": "stdout",
     "output_type": "stream",
     "text": [
      "CPU times: user 30.9 s, sys: 10.6 s, total: 41.5 s\n",
      "Wall time: 47.8 s\n"
     ]
    }
   ],
   "source": [
    "%%time\n",
    "# Load time\n",
    "df = pd.read_csv(\"figsharerainfall/combined_data.csv\", usecols=[\"lat_min\",\"lat_max\", \"rain (mm/day)\"])"
   ]
  },
  {
   "cell_type": "code",
   "execution_count": 17,
   "id": "58221056-10cf-4b8d-a29b-ff2f7b541965",
   "metadata": {},
   "outputs": [
    {
     "name": "stdout",
     "output_type": "stream",
     "text": [
      "CPU times: user 726 ms, sys: 499 ms, total: 1.22 s\n",
      "Wall time: 1.53 s\n"
     ]
    }
   ],
   "source": [
    "%%time\n",
    "# Simple EDA\n",
    "counts = df[\"lat_min\"].value_counts()"
   ]
  },
  {
   "cell_type": "markdown",
   "id": "4dc81184-7df7-4364-81bc-f97561c4142a",
   "metadata": {},
   "source": [
    "##### 4.4 Loading in Chunks"
   ]
  },
  {
   "cell_type": "code",
   "execution_count": 18,
   "id": "0265b361-1c6f-4084-a90a-1d6deff51b97",
   "metadata": {},
   "outputs": [
    {
     "name": "stdout",
     "output_type": "stream",
     "text": [
      "CPU times: user 54.8 s, sys: 10.6 s, total: 1min 5s\n",
      "Wall time: 1min 8s\n"
     ]
    },
    {
     "data": {
      "text/plain": [
       "Series([], dtype: float16)"
      ]
     },
     "execution_count": 18,
     "metadata": {},
     "output_type": "execute_result"
    }
   ],
   "source": [
    "%%time\n",
    "# Load and EDA time\n",
    "chunk_counts = pd.Series(dtype=np.float16)\n",
    "for chunk in pd.read_csv(\"figsharerainfall/combined_data.csv\", chunksize=10_000_000):\n",
    "    chunk_counts.add(chunk[\"lat_min\"].value_counts(), \n",
    "                     fill_value=None)  # To exclude NaN\n",
    "chunk_counts.head()"
   ]
  },
  {
   "cell_type": "markdown",
   "id": "cfc60e34-b20d-4109-a905-37ff2e52be76",
   "metadata": {},
   "source": [
    "##### 4.5 Loading with Dask"
   ]
  },
  {
   "cell_type": "code",
   "execution_count": 19,
   "id": "d66bfde8-2ed6-438b-8596-925a3badc427",
   "metadata": {},
   "outputs": [
    {
     "name": "stdout",
     "output_type": "stream",
     "text": [
      "CPU times: user 503 ms, sys: 513 ms, total: 1.02 s\n",
      "Wall time: 1.83 s\n"
     ]
    }
   ],
   "source": [
    "%%time\n",
    "# Load time\n",
    "import dask.dataframe as dd\n",
    "df_dask = dd.read_csv(\"figsharerainfall/combined_data.csv\")"
   ]
  },
  {
   "cell_type": "code",
   "execution_count": 20,
   "id": "dd1710cd-8e1e-4a1f-a8d0-bdb8f4c734b3",
   "metadata": {},
   "outputs": [
    {
     "name": "stdout",
     "output_type": "stream",
     "text": [
      "CPU times: user 38.1 s, sys: 11.6 s, total: 49.6 s\n",
      "Wall time: 14.4 s\n"
     ]
    },
    {
     "data": {
      "text/plain": [
       "-31.099476    3035329\n",
       "-32.984293    3035329\n",
       "-34.869110    3035329\n",
       "-32.041885    3035329\n",
       "-30.000000    1747830\n",
       "               ...   \n",
       "-30.696652     183960\n",
       "-36.277805     183960\n",
       "-36.281964     183960\n",
       "-30.700015     183960\n",
       "-33.487232     183960\n",
       "Name: lat_min, Length: 84, dtype: int64"
      ]
     },
     "execution_count": 20,
     "metadata": {},
     "output_type": "execute_result"
    }
   ],
   "source": [
    "%%time\n",
    "#computing values of lat_min variable \n",
    "df_dask[\"lat_min\"].value_counts().compute()"
   ]
  },
  {
   "cell_type": "markdown",
   "id": "9504b8ee-605e-4bc9-80d8-21e08b88f0a0",
   "metadata": {},
   "source": [
    "##### 4.6 Comparing Wall Time of Different Machines"
   ]
  },
  {
   "cell_type": "markdown",
   "id": "e6e0fe86-e20c-449f-b46d-d15115785f4a",
   "metadata": {},
   "source": [
    "| Team Member | Task  |  Regular Loading |      Changed Data Type |      Selected Columns |  Chunks            |   Dask        |\n",
    "|:-----------:|:------|:----------------:|:----------------------:|:---------------------:|:------------------:|:-------------:|\n",
    "| Arlin       | Load  |       1 min 24s        |          1 min 10s         |           40.4s         |load + EDA:1min 6s    |     1.37s   | \n",
    "|             | EDA   |       1.4s      |             944ms      |            624ms      |included above      |      14.1s    |\n",
    "| Artan       | Load  |    1min 34s      |        1min 19s        |       53.2 s          |load + EDA: 1min 14s|    766 ms     |\n",
    "|             | EDA   |       1.25 s     |        1.05 s          |       766 ms          |included above      |    1min 21s   |\n",
    "| Shi Yan     | Load  |    2min 33s      |        2min 12s        |       1min 27s        |load + EDA: 3min 14s|    23.35 s    |\n",
    "|             | EDA   |       7.14 s     |         14.03 s        |       9.76 s          |included above      |    2min 3s    |"
   ]
  },
  {
   "cell_type": "markdown",
   "id": "f7f2a7c6-1ad8-4a99-ad9a-d0a7c5068062",
   "metadata": {},
   "source": [
    ">Observations: Artan's laptop did not have problem loading the csv files but was getting errors like the below when doing an EDA including calculating mean values per model:\n",
    ">```Python\n",
    ">MemoryError: Unable to allocate 477. MiB for an array with shape (1, 62467843) and data type object\n",
    ">```\n",
    "\n",
    "\n",
    ">Shi Yan's laptop got the same memory error, operations also took longer time."
   ]
  },
  {
   "cell_type": "markdown",
   "id": "1338a1ae-3381-4c15-8338-244678dd74fb",
   "metadata": {},
   "source": [
    "- Compared with the original dataframe float64 datatype, changing to float16 reduced the memory space of the dataframe from 3498.20 GB to 1624.16GB. Performing value_counts() EDA on the column `lat_min` was slightly faster for float16 than for float64 (1.02s vs. 1.53s respectively)\n",
    "- Doubling the RAM size from 8GB to 16GB would boost the performance more than two times.\n",
    "- The advantage of using Dask instead of regular Pandas loading is that the loading for EDA does not happen until we do the EDA. For this we see the order of load and EDA time reversed in the table above. However, the process of loading and EDA is much faster in Dask when compared to regular Pandas."
   ]
  },
  {
   "cell_type": "markdown",
   "id": "3efc41f4-29c3-4f49-b447-8c7daa508056",
   "metadata": {},
   "source": [
    "#### 5. Perform a simple EDA in R"
   ]
  },
  {
   "cell_type": "code",
   "execution_count": 21,
   "id": "9ba2d99a-9a7f-4e7a-9a71-6e59039b600e",
   "metadata": {},
   "outputs": [
    {
     "name": "stdout",
     "output_type": "stream",
     "text": [
      "CPU times: total: 0 ns\n",
      "Wall time: 0 ns\n"
     ]
    }
   ],
   "source": [
    "# Limit dataset to cover two models with time-saving\n",
    "%time\n",
    "df = pd.read_csv(\"figsharerainfall/combined_data.csv\", nrows=2000000)"
   ]
  },
  {
   "cell_type": "code",
   "execution_count": 22,
   "id": "52d344ae-a68d-430c-9ba0-e81be2c8acad",
   "metadata": {},
   "outputs": [],
   "source": [
    "# Load the ipython extension that provides the %%R cell magic\n",
    "%load_ext rpy2.ipython\n",
    "%load_ext memory_profiler"
   ]
  },
  {
   "cell_type": "markdown",
   "id": "7aac381a-d5dc-48c5-8957-0c28e9323efc",
   "metadata": {},
   "source": [
    "##### 5.1 Transfer the dataframe from python to R"
   ]
  },
  {
   "cell_type": "markdown",
   "id": "3673bec3-0730-492c-82f5-47af73bbdfa8",
   "metadata": {},
   "source": [
    "##### 5.1.1 Pandas Exchange"
   ]
  },
  {
   "cell_type": "code",
   "execution_count": 23,
   "id": "0d60552e-f609-4d64-80b6-a8d9660b19f7",
   "metadata": {},
   "outputs": [
    {
     "name": "stdout",
     "output_type": "stream",
     "text": [
      "peak memory: 326.72 MiB, increment: 0.18 MiB\n"
     ]
    },
    {
     "name": "stderr",
     "output_type": "stream",
     "text": [
      "UsageError: Line magic function `%%R` not found.\n"
     ]
    }
   ],
   "source": [
    "%%time\n",
    "%memit\n",
    "%%R -i df\n",
    "start_time <- Sys.time()\n",
    "end_time <- Sys.time()\n",
    "print(end_time - start_time)"
   ]
  },
  {
   "cell_type": "markdown",
   "id": "2f7ee82f-3b03-401e-a6cc-7d26039fb963",
   "metadata": {},
   "source": [
    "##### 5.1.2 Parquet file"
   ]
  },
  {
   "cell_type": "code",
   "execution_count": 24,
   "id": "1f7299bc-032b-4a5b-8ac6-91cfaa2df397",
   "metadata": {},
   "outputs": [
    {
     "name": "stdout",
     "output_type": "stream",
     "text": [
      "peak memory: 326.75 MiB, increment: 0.00 MiB\n",
      "CPU times: total: 1.03 s\n",
      "Wall time: 4.62 s\n"
     ]
    }
   ],
   "source": [
    "%%time\n",
    "%memit\n",
    "df.to_parquet(\"figsharerainfall/combined_data.parquet\")"
   ]
  },
  {
   "cell_type": "code",
   "execution_count": 25,
   "id": "b5ed1b5e-3382-485e-ac41-260ca38bb2b2",
   "metadata": {},
   "outputs": [],
   "source": [
    "%%R\n",
    "suppressMessages(library(arrow, warn.conflicts = FALSE))\n",
    "suppressMessages(library(dplyr, warn.conflicts = FALSE))\n",
    "suppressMessages(library(tidyverse, warn.conflicts = FALSE))"
   ]
  },
  {
   "cell_type": "code",
   "execution_count": 26,
   "id": "3ac3f53a-bc0f-499c-b113-f369cf15b4a9",
   "metadata": {},
   "outputs": [
    {
     "name": "stdout",
     "output_type": "stream",
     "text": [
      "\u001b[38;5;246m# A tibble: 6 x 7\u001b[39m\n",
      "  time                lat_min lat_max lon_min lon_max `rain (mm/day)` model     \n",
      "  \u001b[3m\u001b[38;5;246m<chr>\u001b[39m\u001b[23m                 \u001b[3m\u001b[38;5;246m<dbl>\u001b[39m\u001b[23m   \u001b[3m\u001b[38;5;246m<dbl>\u001b[39m\u001b[23m   \u001b[3m\u001b[38;5;246m<dbl>\u001b[39m\u001b[23m   \u001b[3m\u001b[38;5;246m<dbl>\u001b[39m\u001b[23m           \u001b[3m\u001b[38;5;246m<dbl>\u001b[39m\u001b[23m \u001b[3m\u001b[38;5;246m<chr>\u001b[39m\u001b[23m     \n",
      "\u001b[38;5;250m1\u001b[39m 1889-01-01 12:00:00   -\u001b[31m35\u001b[39m\u001b[31m.\u001b[39m\u001b[31m4\u001b[39m   -\u001b[31m33\u001b[39m\u001b[31m.\u001b[39m\u001b[31m6\u001b[39m    142.    143.        4.24\u001b[38;5;246me\u001b[39m\u001b[31m-13\u001b[39m MPI-ESM-1~\n",
      "\u001b[38;5;250m2\u001b[39m 1889-01-02 12:00:00   -\u001b[31m35\u001b[39m\u001b[31m.\u001b[39m\u001b[31m4\u001b[39m   -\u001b[31m33\u001b[39m\u001b[31m.\u001b[39m\u001b[31m6\u001b[39m    142.    143.        4.22\u001b[38;5;246me\u001b[39m\u001b[31m-13\u001b[39m MPI-ESM-1~\n",
      "\u001b[38;5;250m3\u001b[39m 1889-01-03 12:00:00   -\u001b[31m35\u001b[39m\u001b[31m.\u001b[39m\u001b[31m4\u001b[39m   -\u001b[31m33\u001b[39m\u001b[31m.\u001b[39m\u001b[31m6\u001b[39m    142.    143.        4.50\u001b[38;5;246me\u001b[39m\u001b[31m-13\u001b[39m MPI-ESM-1~\n",
      "\u001b[38;5;250m4\u001b[39m 1889-01-04 12:00:00   -\u001b[31m35\u001b[39m\u001b[31m.\u001b[39m\u001b[31m4\u001b[39m   -\u001b[31m33\u001b[39m\u001b[31m.\u001b[39m\u001b[31m6\u001b[39m    142.    143.        4.25\u001b[38;5;246me\u001b[39m\u001b[31m-13\u001b[39m MPI-ESM-1~\n",
      "\u001b[38;5;250m5\u001b[39m 1889-01-05 12:00:00   -\u001b[31m35\u001b[39m\u001b[31m.\u001b[39m\u001b[31m4\u001b[39m   -\u001b[31m33\u001b[39m\u001b[31m.\u001b[39m\u001b[31m6\u001b[39m    142.    143.        4.27\u001b[38;5;246me\u001b[39m\u001b[31m-13\u001b[39m MPI-ESM-1~\n",
      "\u001b[38;5;250m6\u001b[39m 1889-01-06 12:00:00   -\u001b[31m35\u001b[39m\u001b[31m.\u001b[39m\u001b[31m4\u001b[39m   -\u001b[31m33\u001b[39m\u001b[31m.\u001b[39m\u001b[31m6\u001b[39m    142.    143.        4.20\u001b[38;5;246me\u001b[39m\u001b[31m-13\u001b[39m MPI-ESM-1~\n",
      "CPU times: total: 859 ms\n",
      "Wall time: 967 ms\n"
     ]
    }
   ],
   "source": [
    "%%time\n",
    "%%R\n",
    "ds <- open_dataset(\"figsharerainfall/combined_data.parquet\")\n",
    "so <- Scanner$create(ds)\n",
    "at <- so$ToTable()\n",
    "df <- as.data.frame(at)\n",
    "head(df)"
   ]
  },
  {
   "cell_type": "markdown",
   "id": "f86a86ac-0431-4471-b6ed-7c154ab0306a",
   "metadata": {},
   "source": [
    "##### Simple EDA in R with parquet"
   ]
  },
  {
   "cell_type": "code",
   "execution_count": 27,
   "id": "58660cbd-fdcd-49b7-ab9e-c3e55170ccec",
   "metadata": {},
   "outputs": [
    {
     "name": "stdout",
     "output_type": "stream",
     "text": [
      "[1] \"MPI-ESM-1-2-HAM\" \"AWI-ESM-1-1-LR\"  \"NorESM2-LM\"     \n"
     ]
    }
   ],
   "source": [
    "%%R\n",
    "# To see models covered by the dataset\n",
    "models <- unique(df$model)\n",
    "models"
   ]
  },
  {
   "cell_type": "code",
   "execution_count": 28,
   "id": "98a1482f-5c43-4729-a2e5-573cddb09c21",
   "metadata": {},
   "outputs": [
    {
     "name": "stdout",
     "output_type": "stream",
     "text": [
      "  year          model     rain\n",
      "1 1889 AWI-ESM-1-1-LR 17481.37\n",
      "2 1890 AWI-ESM-1-1-LR 15292.96\n",
      "3 1891 AWI-ESM-1-1-LR 12395.85\n",
      "4 1892 AWI-ESM-1-1-LR 10460.87\n",
      "5 1893 AWI-ESM-1-1-LR 16845.34\n",
      "6 1894 AWI-ESM-1-1-LR 15931.97\n"
     ]
    }
   ],
   "source": [
    "%%R\n",
    "# Wrangling\n",
    "df$time <- as.Date(df$time)\n",
    "df$year <- format(as.Date(df$time, format = \"%d/%m/%Y\"),\"%Y\")\n",
    "# Only cover two models for comparison\n",
    "df <- subset(df, (model == \"MPI-ESM-1-2-HAM\" | model == \"AWI-ESM-1-1-LR\"))\n",
    "df_year <- aggregate(df$`rain (mm/day)`, by=list(df$year, df$model), FUN = sum)\n",
    "names(df_year)[names(df_year) == \"Group.1\"] <- \"year\"\n",
    "names(df_year)[names(df_year) == \"Group.2\"] <- \"model\"\n",
    "names(df_year)[names(df_year) == \"x\"] <- \"rain\"\n",
    "head(df_year)"
   ]
  },
  {
   "cell_type": "code",
   "execution_count": 29,
   "id": "3119cd9e-eb1b-4e63-8079-69481a87ed98",
   "metadata": {},
   "outputs": [
    {
     "data": {
      "image/png": "[encoded data removed]"
     },
     "metadata": {},
     "output_type": "display_data"
    }
   ],
   "source": [
    "%%R -w 800\n",
    "# To compare trendlines of two models\n",
    "ggplot(df_year, aes(x = year, y = rain, color = model, group=1)) +\n",
    "    geom_line() + labs(y='Rain of the year', x='Year') +\n",
    "    scale_x_discrete(breaks=c(1889, 1914, 1939, 1964, 1989, 2014)) +\n",
    "    ggtitle(\"Comparison of two models on Rainfall from 1889 to 2014\")"
   ]
  },
  {
   "cell_type": "markdown",
   "id": "93054f5e-8054-486a-8e0a-0fa2ec259e11",
   "metadata": {},
   "source": [
    "##### 5.1.3 feather format"
   ]
  },
  {
   "cell_type": "code",
   "execution_count": 30,
   "id": "cbe2a46e-55c0-428f-8288-3b9a1fa29303",
   "metadata": {},
   "outputs": [],
   "source": [
    "%%R\n",
    "library(arrow)\n",
    "library(dplyr)"
   ]
  },
  {
   "cell_type": "code",
   "execution_count": 31,
   "id": "88473cf4-0e1d-49e6-b4c1-45d7b44ab7cb",
   "metadata": {},
   "outputs": [],
   "source": [
    "# load in combined dataset again as df\n",
    "df = pd.read_csv(\"figsharerainfall/combined_data.csv\", nrows=2000000)"
   ]
  },
  {
   "cell_type": "code",
   "execution_count": 32,
   "id": "9ee1c4c9-8d9c-4ee8-bbed-07c4732e1285",
   "metadata": {},
   "outputs": [
    {
     "name": "stdout",
     "output_type": "stream",
     "text": [
      "CPU times: total: 328 ms\n",
      "Wall time: 323 ms\n"
     ]
    }
   ],
   "source": [
    "%%time\n",
    "# Convert df to table with pandas\n",
    "table = pa.Table.from_pandas(df)"
   ]
  },
  {
   "cell_type": "code",
   "execution_count": 33,
   "id": "5abd3028-cd3e-4e53-a68c-0fc5a3194b5b",
   "metadata": {},
   "outputs": [
    {
     "name": "stdout",
     "output_type": "stream",
     "text": [
      "CPU times: total: 422 ms\n",
      "Wall time: 192 ms\n"
     ]
    }
   ],
   "source": [
    "%%time\n",
    "# Write to feather format \n",
    "feather.write_feather(table, \"figsharerainfall/combined.feather\")"
   ]
  },
  {
   "cell_type": "markdown",
   "id": "f785bf59-fec2-4cdb-b13f-4e6a958e96cc",
   "metadata": {},
   "source": [
    "##### Simple EDA with feather format"
   ]
  },
  {
   "cell_type": "code",
   "execution_count": 34,
   "id": "dc9c31af-e062-45e8-b499-7ed196d01cd6",
   "metadata": {},
   "outputs": [
    {
     "name": "stdout",
     "output_type": "stream",
     "text": [
      "[1] \"tbl_df\"     \"tbl\"        \"data.frame\"\n",
      "\u001b[38;5;246m# A tibble: 3 x 2\u001b[39m\n",
      "  model                n\n",
      "  \u001b[3m\u001b[38;5;246m<chr>\u001b[39m\u001b[23m            \u001b[3m\u001b[38;5;246m<int>\u001b[39m\u001b[23m\n",
      "\u001b[38;5;250m1\u001b[39m AWI-ESM-1-1-LR  \u001b[4m9\u001b[24m\u001b[4m6\u001b[24m\u001b[4m6\u001b[24m420\n",
      "\u001b[38;5;250m2\u001b[39m MPI-ESM-1-2-HAM \u001b[4m9\u001b[24m\u001b[4m6\u001b[24m\u001b[4m6\u001b[24m420\n",
      "\u001b[38;5;250m3\u001b[39m NorESM2-LM       \u001b[4m6\u001b[24m\u001b[4m7\u001b[24m160\n",
      "Time difference of 0.3254941 secs\n",
      "CPU times: total: 375 ms\n",
      "Wall time: 372 ms\n"
     ]
    }
   ],
   "source": [
    "%%time\n",
    "%%R\n",
    "\n",
    "start_time <- Sys.time()\n",
    "r_table <- arrow::read_feather(\"figsharerainfall/combined.feather\")\n",
    "print(class(r_table))\n",
    "\n",
    "result <- r_table %>% count(model)\n",
    "end_time <- Sys.time()\n",
    "print(result)\n",
    "print(end_time - start_time)"
   ]
  },
  {
   "cell_type": "markdown",
   "id": "80fe0580-697c-4dc7-a090-be6e125b07b7",
   "metadata": {},
   "source": [
    "**Observation Summary - Windows10 laptop - Dataset contains 2,000,000 rows only\n",
    "\n",
    "|     Approach    | CPU Time  | Wall Time | file size (Mb)| Peak Memory (MiB)|\n",
    "|:---------------:|:----------|:---------:|:---------: |:---------:|\n",
    "| Pandas Exchange | 1min 24s  |  1min 25s |    -      |  326.72      |\n",
    "| Parquet file    |  859 ms   |    967 ms |    12.98     |   326.75       |\n",
    "| feather format  |  750 ms   |   515 ms  |     30.14    |  1277.00        |"
   ]
  },
  {
   "cell_type": "markdown",
   "id": "531b29d1-fdcc-47cf-8fc7-cccb8bfd77cd",
   "metadata": {},
   "source": [
    "Three approaches are explored here: `Pandas Exchange`,`Parquet file` and `feather format`\n",
    "\n",
    "Both methods have its own advantages:\n",
    "\n",
    "`Pandas exchange` - Easy and simple, the goal can be achieved by one-line code. Total wall time it took on Windows10 was around 1 min 25s. Most of the time is spent on serialization and deserialization process. \n",
    "\n",
    "`Parquet file` - Require more code lines but not heavy. The benefit of running time is significant. it has the benefits of predicate and projection pushdown. Since it has a hybrid model of column-based and row-based file storage properties, we were able to split the `combined_data.csv` file to selected rows. With the small size we are saving some I/O and network traffic.  \n",
    "\n",
    "`feather format` - The file size of feather format is quite small and sufficient. It also has a faster runtime than parquet. The file space only takes about 1.2GB in memory compared to the 5.6 GB with csv we saw earlier with pandas exchange. While it may be a solution for short term exhange, parquet might be more efficient for long term storage. \n",
    "<br><br>\n",
    "\n",
    "There is another approach called `Arrow exchange` which are similar to `Parquet file`. \n",
    "`Arrow exchange` is more suitable for short-term storage.\n",
    "<br><br>\n",
    "\n",
    "> Overall, we decided to use `Parquet file` as its the most balanced option from time, size and suitability of this project."
   ]
  }
 ],
 "metadata": {
  "kernelspec": {
   "display_name": "Python 3 (ipykernel)",
   "language": "python",
   "name": "python3"
  },
  "language_info": {
   "codemirror_mode": {
    "name": "ipython",
    "version": 3
   },
   "file_extension": ".py",
   "mimetype": "text/x-python",
   "name": "python",
   "nbconvert_exporter": "python",
   "pygments_lexer": "ipython3",
   "version": "3.9.7"
  }
 },
 "nbformat": 4,
 "nbformat_minor": 5
}
